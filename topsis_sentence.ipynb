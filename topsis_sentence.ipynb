{
 "cells": [
  {
   "cell_type": "code",
   "execution_count": 1,
   "metadata": {},
   "outputs": [
    {
     "name": "stdout",
     "output_type": "stream",
     "text": [
      "Collecting sentence-transformers\n",
      "  Downloading sentence_transformers-3.4.1-py3-none-any.whl (275 kB)\n",
      "Collecting numpy\n",
      "  Downloading numpy-2.2.2-cp310-cp310-win_amd64.whl (12.9 MB)\n",
      "Collecting pandas\n",
      "  Downloading pandas-2.2.3-cp310-cp310-win_amd64.whl (11.6 MB)\n",
      "Collecting scipy\n",
      "  Downloading scipy-1.15.1-cp310-cp310-win_amd64.whl (43.9 MB)\n",
      "Collecting datasets\n",
      "  Downloading datasets-3.2.0-py3-none-any.whl (480 kB)\n",
      "Collecting torch\n",
      "  Downloading torch-2.6.0-cp310-cp310-win_amd64.whl (204.2 MB)\n",
      "Collecting tensorflow\n",
      "  Downloading tensorflow-2.18.0-cp310-cp310-win_amd64.whl (7.5 kB)\n",
      "Collecting tqdm\n",
      "  Downloading tqdm-4.67.1-py3-none-any.whl (78 kB)\n",
      "Collecting Pillow\n",
      "  Downloading pillow-11.1.0-cp310-cp310-win_amd64.whl (2.6 MB)\n",
      "Collecting transformers<5.0.0,>=4.41.0\n",
      "  Downloading transformers-4.48.2-py3-none-any.whl (9.7 MB)\n",
      "Collecting scikit-learn\n",
      "  Downloading scikit_learn-1.6.1-cp310-cp310-win_amd64.whl (11.1 MB)\n",
      "Collecting huggingface-hub>=0.20.0\n",
      "  Downloading huggingface_hub-0.28.1-py3-none-any.whl (464 kB)\n",
      "Collecting tzdata>=2022.7\n",
      "  Downloading tzdata-2025.1-py2.py3-none-any.whl (346 kB)\n",
      "Collecting pytz>=2020.1\n",
      "  Downloading pytz-2025.1-py2.py3-none-any.whl (507 kB)\n",
      "Requirement already satisfied: python-dateutil>=2.8.2 in c:\\aarush\\college\\semester 6\\predictive analytics\\lab\\labassignment3\\venv\\lib\\site-packages (from pandas) (2.9.0.post0)\n",
      "Collecting xxhash\n",
      "  Downloading xxhash-3.5.0-cp310-cp310-win_amd64.whl (30 kB)\n",
      "Requirement already satisfied: packaging in c:\\aarush\\college\\semester 6\\predictive analytics\\lab\\labassignment3\\venv\\lib\\site-packages (from datasets) (24.2)\n",
      "Collecting requests>=2.32.2\n",
      "  Downloading requests-2.32.3-py3-none-any.whl (64 kB)\n",
      "Collecting multiprocess<0.70.17\n",
      "  Downloading multiprocess-0.70.16-py310-none-any.whl (134 kB)\n",
      "Collecting dill<0.3.9,>=0.3.0\n",
      "  Downloading dill-0.3.8-py3-none-any.whl (116 kB)\n",
      "Collecting pyarrow>=15.0.0\n",
      "  Downloading pyarrow-19.0.0-cp310-cp310-win_amd64.whl (25.3 MB)\n",
      "Collecting fsspec[http]<=2024.9.0,>=2023.1.0\n",
      "  Downloading fsspec-2024.9.0-py3-none-any.whl (179 kB)\n",
      "Collecting filelock\n",
      "  Downloading filelock-3.17.0-py3-none-any.whl (16 kB)\n",
      "Collecting aiohttp\n",
      "  Downloading aiohttp-3.11.11-cp310-cp310-win_amd64.whl (442 kB)\n",
      "Collecting pyyaml>=5.1\n",
      "  Downloading PyYAML-6.0.2-cp310-cp310-win_amd64.whl (161 kB)\n",
      "Collecting sympy==1.13.1\n",
      "  Downloading sympy-1.13.1-py3-none-any.whl (6.2 MB)\n",
      "Collecting networkx\n",
      "  Downloading networkx-3.4.2-py3-none-any.whl (1.7 MB)\n",
      "Requirement already satisfied: typing-extensions>=4.10.0 in c:\\aarush\\college\\semester 6\\predictive analytics\\lab\\labassignment3\\venv\\lib\\site-packages (from torch) (4.12.2)\n",
      "Collecting fsspec\n",
      "  Downloading fsspec-2025.2.0-py3-none-any.whl (184 kB)\n",
      "Collecting jinja2\n",
      "  Downloading jinja2-3.1.5-py3-none-any.whl (134 kB)\n",
      "Collecting mpmath<1.4,>=1.1.0\n",
      "  Downloading mpmath-1.3.0-py3-none-any.whl (536 kB)\n",
      "Collecting tensorflow-intel==2.18.0\n",
      "  Downloading tensorflow_intel-2.18.0-cp310-cp310-win_amd64.whl (390.0 MB)\n",
      "Collecting libclang>=13.0.0\n",
      "  Downloading libclang-18.1.1-py2.py3-none-win_amd64.whl (26.4 MB)\n",
      "Collecting numpy\n",
      "  Downloading numpy-2.0.2-cp310-cp310-win_amd64.whl (15.9 MB)\n",
      "Collecting h5py>=3.11.0\n",
      "  Downloading h5py-3.12.1-cp310-cp310-win_amd64.whl (3.0 MB)\n",
      "Collecting tensorflow-io-gcs-filesystem>=0.23.1\n",
      "  Downloading tensorflow_io_gcs_filesystem-0.31.0-cp310-cp310-win_amd64.whl (1.5 MB)\n",
      "Collecting termcolor>=1.1.0\n",
      "  Downloading termcolor-2.5.0-py3-none-any.whl (7.8 kB)\n",
      "Collecting astunparse>=1.6.0\n",
      "  Downloading astunparse-1.6.3-py2.py3-none-any.whl (12 kB)\n",
      "Collecting opt-einsum>=2.3.2\n",
      "  Downloading opt_einsum-3.4.0-py3-none-any.whl (71 kB)\n",
      "Collecting flatbuffers>=24.3.25\n",
      "  Downloading flatbuffers-25.1.24-py2.py3-none-any.whl (30 kB)\n",
      "Requirement already satisfied: six>=1.12.0 in c:\\aarush\\college\\semester 6\\predictive analytics\\lab\\labassignment3\\venv\\lib\\site-packages (from tensorflow-intel==2.18.0->tensorflow) (1.17.0)\n",
      "Collecting absl-py>=1.0.0\n",
      "  Downloading absl_py-2.1.0-py3-none-any.whl (133 kB)\n",
      "Collecting ml-dtypes<0.5.0,>=0.4.0\n",
      "  Downloading ml_dtypes-0.4.1-cp310-cp310-win_amd64.whl (126 kB)\n",
      "Collecting gast!=0.5.0,!=0.5.1,!=0.5.2,>=0.2.1\n",
      "  Downloading gast-0.6.0-py3-none-any.whl (21 kB)\n",
      "Requirement already satisfied: setuptools in c:\\aarush\\college\\semester 6\\predictive analytics\\lab\\labassignment3\\venv\\lib\\site-packages (from tensorflow-intel==2.18.0->tensorflow) (57.4.0)\n",
      "Collecting grpcio<2.0,>=1.24.3\n",
      "  Downloading grpcio-1.70.0-cp310-cp310-win_amd64.whl (4.3 MB)\n",
      "Collecting wrapt>=1.11.0\n",
      "  Downloading wrapt-1.17.2-cp310-cp310-win_amd64.whl (38 kB)\n",
      "Collecting tensorboard<2.19,>=2.18\n",
      "  Downloading tensorboard-2.18.0-py3-none-any.whl (5.5 MB)\n",
      "Collecting keras>=3.5.0\n",
      "  Downloading keras-3.8.0-py3-none-any.whl (1.3 MB)\n",
      "Collecting google-pasta>=0.1.1\n",
      "  Downloading google_pasta-0.2.0-py3-none-any.whl (57 kB)\n",
      "Collecting protobuf!=4.21.0,!=4.21.1,!=4.21.2,!=4.21.3,!=4.21.4,!=4.21.5,<6.0.0dev,>=3.20.3\n",
      "  Downloading protobuf-5.29.3-cp310-abi3-win_amd64.whl (434 kB)\n",
      "Collecting wheel<1.0,>=0.23.0\n",
      "  Downloading wheel-0.45.1-py3-none-any.whl (72 kB)\n",
      "Collecting frozenlist>=1.1.1\n",
      "  Downloading frozenlist-1.5.0-cp310-cp310-win_amd64.whl (51 kB)\n",
      "Collecting attrs>=17.3.0\n",
      "  Downloading attrs-25.1.0-py3-none-any.whl (63 kB)\n",
      "Collecting aiohappyeyeballs>=2.3.0\n",
      "  Downloading aiohappyeyeballs-2.4.4-py3-none-any.whl (14 kB)\n",
      "Collecting propcache>=0.2.0\n",
      "  Downloading propcache-0.2.1-cp310-cp310-win_amd64.whl (44 kB)\n",
      "Collecting yarl<2.0,>=1.17.0\n",
      "  Downloading yarl-1.18.3-cp310-cp310-win_amd64.whl (90 kB)\n",
      "Collecting aiosignal>=1.1.2\n",
      "  Downloading aiosignal-1.3.2-py2.py3-none-any.whl (7.6 kB)\n",
      "Collecting async-timeout<6.0,>=4.0\n",
      "  Downloading async_timeout-5.0.1-py3-none-any.whl (6.2 kB)\n",
      "Collecting multidict<7.0,>=4.5\n",
      "  Downloading multidict-6.1.0-cp310-cp310-win_amd64.whl (28 kB)\n",
      "Collecting namex\n",
      "  Downloading namex-0.0.8-py3-none-any.whl (5.8 kB)\n",
      "Collecting rich\n",
      "  Downloading rich-13.9.4-py3-none-any.whl (242 kB)\n",
      "Collecting optree\n",
      "  Downloading optree-0.14.0-cp310-cp310-win_amd64.whl (290 kB)\n",
      "Collecting idna<4,>=2.5\n",
      "  Downloading idna-3.10-py3-none-any.whl (70 kB)\n",
      "Collecting charset-normalizer<4,>=2\n",
      "  Downloading charset_normalizer-3.4.1-cp310-cp310-win_amd64.whl (102 kB)\n",
      "Collecting certifi>=2017.4.17\n",
      "  Downloading certifi-2025.1.31-py3-none-any.whl (166 kB)\n",
      "Collecting urllib3<3,>=1.21.1\n",
      "  Downloading urllib3-2.3.0-py3-none-any.whl (128 kB)\n",
      "Collecting werkzeug>=1.0.1\n",
      "  Downloading werkzeug-3.1.3-py3-none-any.whl (224 kB)\n",
      "Collecting markdown>=2.6.8\n",
      "  Downloading Markdown-3.7-py3-none-any.whl (106 kB)\n",
      "Collecting tensorboard-data-server<0.8.0,>=0.7.0\n",
      "  Downloading tensorboard_data_server-0.7.2-py3-none-any.whl (2.4 kB)\n",
      "Requirement already satisfied: colorama in c:\\aarush\\college\\semester 6\\predictive analytics\\lab\\labassignment3\\venv\\lib\\site-packages (from tqdm->sentence-transformers) (0.4.6)\n",
      "Collecting regex!=2019.12.17\n",
      "  Downloading regex-2024.11.6-cp310-cp310-win_amd64.whl (274 kB)\n",
      "Collecting safetensors>=0.4.1\n",
      "  Downloading safetensors-0.5.2-cp38-abi3-win_amd64.whl (303 kB)\n",
      "Collecting tokenizers<0.22,>=0.21\n",
      "  Downloading tokenizers-0.21.0-cp39-abi3-win_amd64.whl (2.4 MB)\n",
      "Collecting MarkupSafe>=2.1.1\n",
      "  Downloading MarkupSafe-3.0.2-cp310-cp310-win_amd64.whl (15 kB)\n",
      "Collecting markdown-it-py>=2.2.0\n",
      "  Downloading markdown_it_py-3.0.0-py3-none-any.whl (87 kB)\n",
      "Requirement already satisfied: pygments<3.0.0,>=2.13.0 in c:\\aarush\\college\\semester 6\\predictive analytics\\lab\\labassignment3\\venv\\lib\\site-packages (from rich->keras>=3.5.0->tensorflow-intel==2.18.0->tensorflow) (2.19.1)\n",
      "Collecting mdurl~=0.1\n",
      "  Downloading mdurl-0.1.2-py3-none-any.whl (10.0 kB)\n",
      "Collecting threadpoolctl>=3.1.0\n",
      "  Downloading threadpoolctl-3.5.0-py3-none-any.whl (18 kB)\n",
      "Collecting joblib>=1.2.0\n",
      "  Downloading joblib-1.4.2-py3-none-any.whl (301 kB)\n",
      "Installing collected packages: urllib3, mdurl, idna, charset-normalizer, certifi, tqdm, requests, pyyaml, propcache, numpy, multidict, MarkupSafe, markdown-it-py, fsspec, frozenlist, filelock, yarl, wheel, werkzeug, tensorboard-data-server, rich, protobuf, optree, namex, mpmath, ml-dtypes, markdown, huggingface-hub, h5py, grpcio, attrs, async-timeout, aiosignal, aiohappyeyeballs, absl-py, wrapt, tzdata, tokenizers, threadpoolctl, termcolor, tensorflow-io-gcs-filesystem, tensorboard, sympy, scipy, safetensors, regex, pytz, opt-einsum, networkx, libclang, keras, joblib, jinja2, google-pasta, gast, flatbuffers, dill, astunparse, aiohttp, xxhash, transformers, torch, tensorflow-intel, scikit-learn, pyarrow, Pillow, pandas, multiprocess, tensorflow, sentence-transformers, datasets\n",
      "Successfully installed MarkupSafe-3.0.2 Pillow-11.1.0 absl-py-2.1.0 aiohappyeyeballs-2.4.4 aiohttp-3.11.11 aiosignal-1.3.2 astunparse-1.6.3 async-timeout-5.0.1 attrs-25.1.0 certifi-2025.1.31 charset-normalizer-3.4.1 datasets-3.2.0 dill-0.3.8 filelock-3.17.0 flatbuffers-25.1.24 frozenlist-1.5.0 fsspec-2024.9.0 gast-0.6.0 google-pasta-0.2.0 grpcio-1.70.0 h5py-3.12.1 huggingface-hub-0.28.1 idna-3.10 jinja2-3.1.5 joblib-1.4.2 keras-3.8.0 libclang-18.1.1 markdown-3.7 markdown-it-py-3.0.0 mdurl-0.1.2 ml-dtypes-0.4.1 mpmath-1.3.0 multidict-6.1.0 multiprocess-0.70.16 namex-0.0.8 networkx-3.4.2 numpy-2.0.2 opt-einsum-3.4.0 optree-0.14.0 pandas-2.2.3 propcache-0.2.1 protobuf-5.29.3 pyarrow-19.0.0 pytz-2025.1 pyyaml-6.0.2 regex-2024.11.6 requests-2.32.3 rich-13.9.4 safetensors-0.5.2 scikit-learn-1.6.1 scipy-1.15.1 sentence-transformers-3.4.1 sympy-1.13.1 tensorboard-2.18.0 tensorboard-data-server-0.7.2 tensorflow-2.18.0 tensorflow-intel-2.18.0 tensorflow-io-gcs-filesystem-0.31.0 termcolor-2.5.0 threadpoolctl-3.5.0 tokenizers-0.21.0 torch-2.6.0 tqdm-4.67.1 transformers-4.48.2 tzdata-2025.1 urllib3-2.3.0 werkzeug-3.1.3 wheel-0.45.1 wrapt-1.17.2 xxhash-3.5.0 yarl-1.18.3\n"
     ]
    }
   ],
   "source": [
    "!pip install sentence-transformers numpy pandas scipy datasets torch tensorflow\n"
   ]
  },
  {
   "cell_type": "code",
   "execution_count": 3,
   "metadata": {},
   "outputs": [
    {
     "name": "stdout",
     "output_type": "stream",
     "text": [
      "Collecting tf-keras\n",
      "  Downloading tf_keras-2.18.0-py3-none-any.whl (1.7 MB)\n",
      "Requirement already satisfied: tensorflow<2.19,>=2.18 in c:\\aarush\\college\\semester 6\\predictive analytics\\lab\\labassignment3\\venv\\lib\\site-packages (from tf-keras) (2.18.0)\n",
      "Requirement already satisfied: tensorflow-intel==2.18.0 in c:\\aarush\\college\\semester 6\\predictive analytics\\lab\\labassignment3\\venv\\lib\\site-packages (from tensorflow<2.19,>=2.18->tf-keras) (2.18.0)\n",
      "Requirement already satisfied: google-pasta>=0.1.1 in c:\\aarush\\college\\semester 6\\predictive analytics\\lab\\labassignment3\\venv\\lib\\site-packages (from tensorflow-intel==2.18.0->tensorflow<2.19,>=2.18->tf-keras) (0.2.0)\n",
      "Requirement already satisfied: setuptools in c:\\aarush\\college\\semester 6\\predictive analytics\\lab\\labassignment3\\venv\\lib\\site-packages (from tensorflow-intel==2.18.0->tensorflow<2.19,>=2.18->tf-keras) (57.4.0)\n",
      "Requirement already satisfied: tensorflow-io-gcs-filesystem>=0.23.1 in c:\\aarush\\college\\semester 6\\predictive analytics\\lab\\labassignment3\\venv\\lib\\site-packages (from tensorflow-intel==2.18.0->tensorflow<2.19,>=2.18->tf-keras) (0.31.0)\n",
      "Requirement already satisfied: wrapt>=1.11.0 in c:\\aarush\\college\\semester 6\\predictive analytics\\lab\\labassignment3\\venv\\lib\\site-packages (from tensorflow-intel==2.18.0->tensorflow<2.19,>=2.18->tf-keras) (1.17.2)\n",
      "Requirement already satisfied: protobuf!=4.21.0,!=4.21.1,!=4.21.2,!=4.21.3,!=4.21.4,!=4.21.5,<6.0.0dev,>=3.20.3 in c:\\aarush\\college\\semester 6\\predictive analytics\\lab\\labassignment3\\venv\\lib\\site-packages (from tensorflow-intel==2.18.0->tensorflow<2.19,>=2.18->tf-keras) (5.29.3)\n",
      "Requirement already satisfied: termcolor>=1.1.0 in c:\\aarush\\college\\semester 6\\predictive analytics\\lab\\labassignment3\\venv\\lib\\site-packages (from tensorflow-intel==2.18.0->tensorflow<2.19,>=2.18->tf-keras) (2.5.0)\n",
      "Requirement already satisfied: absl-py>=1.0.0 in c:\\aarush\\college\\semester 6\\predictive analytics\\lab\\labassignment3\\venv\\lib\\site-packages (from tensorflow-intel==2.18.0->tensorflow<2.19,>=2.18->tf-keras) (2.1.0)\n",
      "Requirement already satisfied: ml-dtypes<0.5.0,>=0.4.0 in c:\\aarush\\college\\semester 6\\predictive analytics\\lab\\labassignment3\\venv\\lib\\site-packages (from tensorflow-intel==2.18.0->tensorflow<2.19,>=2.18->tf-keras) (0.4.1)\n",
      "Requirement already satisfied: opt-einsum>=2.3.2 in c:\\aarush\\college\\semester 6\\predictive analytics\\lab\\labassignment3\\venv\\lib\\site-packages (from tensorflow-intel==2.18.0->tensorflow<2.19,>=2.18->tf-keras) (3.4.0)\n",
      "Requirement already satisfied: astunparse>=1.6.0 in c:\\aarush\\college\\semester 6\\predictive analytics\\lab\\labassignment3\\venv\\lib\\site-packages (from tensorflow-intel==2.18.0->tensorflow<2.19,>=2.18->tf-keras) (1.6.3)\n",
      "Requirement already satisfied: flatbuffers>=24.3.25 in c:\\aarush\\college\\semester 6\\predictive analytics\\lab\\labassignment3\\venv\\lib\\site-packages (from tensorflow-intel==2.18.0->tensorflow<2.19,>=2.18->tf-keras) (25.1.24)\n",
      "Requirement already satisfied: keras>=3.5.0 in c:\\aarush\\college\\semester 6\\predictive analytics\\lab\\labassignment3\\venv\\lib\\site-packages (from tensorflow-intel==2.18.0->tensorflow<2.19,>=2.18->tf-keras) (3.8.0)\n",
      "Requirement already satisfied: grpcio<2.0,>=1.24.3 in c:\\aarush\\college\\semester 6\\predictive analytics\\lab\\labassignment3\\venv\\lib\\site-packages (from tensorflow-intel==2.18.0->tensorflow<2.19,>=2.18->tf-keras) (1.70.0)\n",
      "Requirement already satisfied: six>=1.12.0 in c:\\aarush\\college\\semester 6\\predictive analytics\\lab\\labassignment3\\venv\\lib\\site-packages (from tensorflow-intel==2.18.0->tensorflow<2.19,>=2.18->tf-keras) (1.17.0)\n",
      "Requirement already satisfied: packaging in c:\\aarush\\college\\semester 6\\predictive analytics\\lab\\labassignment3\\venv\\lib\\site-packages (from tensorflow-intel==2.18.0->tensorflow<2.19,>=2.18->tf-keras) (24.2)\n",
      "Requirement already satisfied: gast!=0.5.0,!=0.5.1,!=0.5.2,>=0.2.1 in c:\\aarush\\college\\semester 6\\predictive analytics\\lab\\labassignment3\\venv\\lib\\site-packages (from tensorflow-intel==2.18.0->tensorflow<2.19,>=2.18->tf-keras) (0.6.0)\n",
      "Requirement already satisfied: libclang>=13.0.0 in c:\\aarush\\college\\semester 6\\predictive analytics\\lab\\labassignment3\\venv\\lib\\site-packages (from tensorflow-intel==2.18.0->tensorflow<2.19,>=2.18->tf-keras) (18.1.1)\n",
      "Requirement already satisfied: tensorboard<2.19,>=2.18 in c:\\aarush\\college\\semester 6\\predictive analytics\\lab\\labassignment3\\venv\\lib\\site-packages (from tensorflow-intel==2.18.0->tensorflow<2.19,>=2.18->tf-keras) (2.18.0)\n",
      "Requirement already satisfied: h5py>=3.11.0 in c:\\aarush\\college\\semester 6\\predictive analytics\\lab\\labassignment3\\venv\\lib\\site-packages (from tensorflow-intel==2.18.0->tensorflow<2.19,>=2.18->tf-keras) (3.12.1)\n",
      "Requirement already satisfied: numpy<2.1.0,>=1.26.0 in c:\\aarush\\college\\semester 6\\predictive analytics\\lab\\labassignment3\\venv\\lib\\site-packages (from tensorflow-intel==2.18.0->tensorflow<2.19,>=2.18->tf-keras) (2.0.2)\n",
      "Requirement already satisfied: typing-extensions>=3.6.6 in c:\\aarush\\college\\semester 6\\predictive analytics\\lab\\labassignment3\\venv\\lib\\site-packages (from tensorflow-intel==2.18.0->tensorflow<2.19,>=2.18->tf-keras) (4.12.2)\n",
      "Requirement already satisfied: requests<3,>=2.21.0 in c:\\aarush\\college\\semester 6\\predictive analytics\\lab\\labassignment3\\venv\\lib\\site-packages (from tensorflow-intel==2.18.0->tensorflow<2.19,>=2.18->tf-keras) (2.32.3)\n",
      "Requirement already satisfied: wheel<1.0,>=0.23.0 in c:\\aarush\\college\\semester 6\\predictive analytics\\lab\\labassignment3\\venv\\lib\\site-packages (from astunparse>=1.6.0->tensorflow-intel==2.18.0->tensorflow<2.19,>=2.18->tf-keras) (0.45.1)\n",
      "Requirement already satisfied: rich in c:\\aarush\\college\\semester 6\\predictive analytics\\lab\\labassignment3\\venv\\lib\\site-packages (from keras>=3.5.0->tensorflow-intel==2.18.0->tensorflow<2.19,>=2.18->tf-keras) (13.9.4)\n",
      "Requirement already satisfied: optree in c:\\aarush\\college\\semester 6\\predictive analytics\\lab\\labassignment3\\venv\\lib\\site-packages (from keras>=3.5.0->tensorflow-intel==2.18.0->tensorflow<2.19,>=2.18->tf-keras) (0.14.0)\n",
      "Requirement already satisfied: namex in c:\\aarush\\college\\semester 6\\predictive analytics\\lab\\labassignment3\\venv\\lib\\site-packages (from keras>=3.5.0->tensorflow-intel==2.18.0->tensorflow<2.19,>=2.18->tf-keras) (0.0.8)\n",
      "Requirement already satisfied: urllib3<3,>=1.21.1 in c:\\aarush\\college\\semester 6\\predictive analytics\\lab\\labassignment3\\venv\\lib\\site-packages (from requests<3,>=2.21.0->tensorflow-intel==2.18.0->tensorflow<2.19,>=2.18->tf-keras) (2.3.0)\n",
      "Requirement already satisfied: charset-normalizer<4,>=2 in c:\\aarush\\college\\semester 6\\predictive analytics\\lab\\labassignment3\\venv\\lib\\site-packages (from requests<3,>=2.21.0->tensorflow-intel==2.18.0->tensorflow<2.19,>=2.18->tf-keras) (3.4.1)\n",
      "Requirement already satisfied: idna<4,>=2.5 in c:\\aarush\\college\\semester 6\\predictive analytics\\lab\\labassignment3\\venv\\lib\\site-packages (from requests<3,>=2.21.0->tensorflow-intel==2.18.0->tensorflow<2.19,>=2.18->tf-keras) (3.10)\n",
      "Requirement already satisfied: certifi>=2017.4.17 in c:\\aarush\\college\\semester 6\\predictive analytics\\lab\\labassignment3\\venv\\lib\\site-packages (from requests<3,>=2.21.0->tensorflow-intel==2.18.0->tensorflow<2.19,>=2.18->tf-keras) (2025.1.31)\n",
      "Requirement already satisfied: tensorboard-data-server<0.8.0,>=0.7.0 in c:\\aarush\\college\\semester 6\\predictive analytics\\lab\\labassignment3\\venv\\lib\\site-packages (from tensorboard<2.19,>=2.18->tensorflow-intel==2.18.0->tensorflow<2.19,>=2.18->tf-keras) (0.7.2)\n",
      "Requirement already satisfied: werkzeug>=1.0.1 in c:\\aarush\\college\\semester 6\\predictive analytics\\lab\\labassignment3\\venv\\lib\\site-packages (from tensorboard<2.19,>=2.18->tensorflow-intel==2.18.0->tensorflow<2.19,>=2.18->tf-keras) (3.1.3)\n",
      "Requirement already satisfied: markdown>=2.6.8 in c:\\aarush\\college\\semester 6\\predictive analytics\\lab\\labassignment3\\venv\\lib\\site-packages (from tensorboard<2.19,>=2.18->tensorflow-intel==2.18.0->tensorflow<2.19,>=2.18->tf-keras) (3.7)\n",
      "Requirement already satisfied: MarkupSafe>=2.1.1 in c:\\aarush\\college\\semester 6\\predictive analytics\\lab\\labassignment3\\venv\\lib\\site-packages (from werkzeug>=1.0.1->tensorboard<2.19,>=2.18->tensorflow-intel==2.18.0->tensorflow<2.19,>=2.18->tf-keras) (3.0.2)\n",
      "Requirement already satisfied: markdown-it-py>=2.2.0 in c:\\aarush\\college\\semester 6\\predictive analytics\\lab\\labassignment3\\venv\\lib\\site-packages (from rich->keras>=3.5.0->tensorflow-intel==2.18.0->tensorflow<2.19,>=2.18->tf-keras) (3.0.0)\n",
      "Requirement already satisfied: pygments<3.0.0,>=2.13.0 in c:\\aarush\\college\\semester 6\\predictive analytics\\lab\\labassignment3\\venv\\lib\\site-packages (from rich->keras>=3.5.0->tensorflow-intel==2.18.0->tensorflow<2.19,>=2.18->tf-keras) (2.19.1)\n",
      "Requirement already satisfied: mdurl~=0.1 in c:\\aarush\\college\\semester 6\\predictive analytics\\lab\\labassignment3\\venv\\lib\\site-packages (from markdown-it-py>=2.2.0->rich->keras>=3.5.0->tensorflow-intel==2.18.0->tensorflow<2.19,>=2.18->tf-keras) (0.1.2)\n",
      "Installing collected packages: tf-keras\n",
      "Successfully installed tf-keras-2.18.0\n"
     ]
    }
   ],
   "source": [
    "!pip install tf-keras\n"
   ]
  },
  {
   "cell_type": "code",
   "execution_count": 9,
   "metadata": {},
   "outputs": [
    {
     "name": "stdout",
     "output_type": "stream",
     "text": [
      "Collecting tensorflow-hub\n",
      "  Downloading tensorflow_hub-0.16.1-py2.py3-none-any.whl (30 kB)\n",
      "Requirement already satisfied: numpy>=1.12.0 in c:\\aarush\\college\\semester 6\\predictive analytics\\lab\\labassignment3\\venv\\lib\\site-packages (from tensorflow-hub) (2.0.2)\n",
      "Requirement already satisfied: protobuf>=3.19.6 in c:\\aarush\\college\\semester 6\\predictive analytics\\lab\\labassignment3\\venv\\lib\\site-packages (from tensorflow-hub) (5.29.3)\n",
      "Requirement already satisfied: tf-keras>=2.14.1 in c:\\aarush\\college\\semester 6\\predictive analytics\\lab\\labassignment3\\venv\\lib\\site-packages (from tensorflow-hub) (2.18.0)\n",
      "Requirement already satisfied: tensorflow<2.19,>=2.18 in c:\\aarush\\college\\semester 6\\predictive analytics\\lab\\labassignment3\\venv\\lib\\site-packages (from tf-keras>=2.14.1->tensorflow-hub) (2.18.0)\n",
      "Requirement already satisfied: tensorflow-intel==2.18.0 in c:\\aarush\\college\\semester 6\\predictive analytics\\lab\\labassignment3\\venv\\lib\\site-packages (from tensorflow<2.19,>=2.18->tf-keras>=2.14.1->tensorflow-hub) (2.18.0)\n",
      "Requirement already satisfied: libclang>=13.0.0 in c:\\aarush\\college\\semester 6\\predictive analytics\\lab\\labassignment3\\venv\\lib\\site-packages (from tensorflow-intel==2.18.0->tensorflow<2.19,>=2.18->tf-keras>=2.14.1->tensorflow-hub) (18.1.1)\n",
      "Requirement already satisfied: keras>=3.5.0 in c:\\aarush\\college\\semester 6\\predictive analytics\\lab\\labassignment3\\venv\\lib\\site-packages (from tensorflow-intel==2.18.0->tensorflow<2.19,>=2.18->tf-keras>=2.14.1->tensorflow-hub) (3.8.0)\n",
      "Requirement already satisfied: typing-extensions>=3.6.6 in c:\\aarush\\college\\semester 6\\predictive analytics\\lab\\labassignment3\\venv\\lib\\site-packages (from tensorflow-intel==2.18.0->tensorflow<2.19,>=2.18->tf-keras>=2.14.1->tensorflow-hub) (4.12.2)\n",
      "Requirement already satisfied: six>=1.12.0 in c:\\aarush\\college\\semester 6\\predictive analytics\\lab\\labassignment3\\venv\\lib\\site-packages (from tensorflow-intel==2.18.0->tensorflow<2.19,>=2.18->tf-keras>=2.14.1->tensorflow-hub) (1.17.0)\n",
      "Requirement already satisfied: google-pasta>=0.1.1 in c:\\aarush\\college\\semester 6\\predictive analytics\\lab\\labassignment3\\venv\\lib\\site-packages (from tensorflow-intel==2.18.0->tensorflow<2.19,>=2.18->tf-keras>=2.14.1->tensorflow-hub) (0.2.0)\n",
      "Requirement already satisfied: flatbuffers>=24.3.25 in c:\\aarush\\college\\semester 6\\predictive analytics\\lab\\labassignment3\\venv\\lib\\site-packages (from tensorflow-intel==2.18.0->tensorflow<2.19,>=2.18->tf-keras>=2.14.1->tensorflow-hub) (25.1.24)\n",
      "Requirement already satisfied: gast!=0.5.0,!=0.5.1,!=0.5.2,>=0.2.1 in c:\\aarush\\college\\semester 6\\predictive analytics\\lab\\labassignment3\\venv\\lib\\site-packages (from tensorflow-intel==2.18.0->tensorflow<2.19,>=2.18->tf-keras>=2.14.1->tensorflow-hub) (0.6.0)\n",
      "Requirement already satisfied: opt-einsum>=2.3.2 in c:\\aarush\\college\\semester 6\\predictive analytics\\lab\\labassignment3\\venv\\lib\\site-packages (from tensorflow-intel==2.18.0->tensorflow<2.19,>=2.18->tf-keras>=2.14.1->tensorflow-hub) (3.4.0)\n",
      "Requirement already satisfied: astunparse>=1.6.0 in c:\\aarush\\college\\semester 6\\predictive analytics\\lab\\labassignment3\\venv\\lib\\site-packages (from tensorflow-intel==2.18.0->tensorflow<2.19,>=2.18->tf-keras>=2.14.1->tensorflow-hub) (1.6.3)\n",
      "Requirement already satisfied: tensorboard<2.19,>=2.18 in c:\\aarush\\college\\semester 6\\predictive analytics\\lab\\labassignment3\\venv\\lib\\site-packages (from tensorflow-intel==2.18.0->tensorflow<2.19,>=2.18->tf-keras>=2.14.1->tensorflow-hub) (2.18.0)\n",
      "Requirement already satisfied: ml-dtypes<0.5.0,>=0.4.0 in c:\\aarush\\college\\semester 6\\predictive analytics\\lab\\labassignment3\\venv\\lib\\site-packages (from tensorflow-intel==2.18.0->tensorflow<2.19,>=2.18->tf-keras>=2.14.1->tensorflow-hub) (0.4.1)\n",
      "Requirement already satisfied: tensorflow-io-gcs-filesystem>=0.23.1 in c:\\aarush\\college\\semester 6\\predictive analytics\\lab\\labassignment3\\venv\\lib\\site-packages (from tensorflow-intel==2.18.0->tensorflow<2.19,>=2.18->tf-keras>=2.14.1->tensorflow-hub) (0.31.0)\n",
      "Requirement already satisfied: grpcio<2.0,>=1.24.3 in c:\\aarush\\college\\semester 6\\predictive analytics\\lab\\labassignment3\\venv\\lib\\site-packages (from tensorflow-intel==2.18.0->tensorflow<2.19,>=2.18->tf-keras>=2.14.1->tensorflow-hub) (1.70.0)\n",
      "Requirement already satisfied: h5py>=3.11.0 in c:\\aarush\\college\\semester 6\\predictive analytics\\lab\\labassignment3\\venv\\lib\\site-packages (from tensorflow-intel==2.18.0->tensorflow<2.19,>=2.18->tf-keras>=2.14.1->tensorflow-hub) (3.12.1)\n",
      "Requirement already satisfied: requests<3,>=2.21.0 in c:\\aarush\\college\\semester 6\\predictive analytics\\lab\\labassignment3\\venv\\lib\\site-packages (from tensorflow-intel==2.18.0->tensorflow<2.19,>=2.18->tf-keras>=2.14.1->tensorflow-hub) (2.32.3)\n",
      "Requirement already satisfied: setuptools in c:\\aarush\\college\\semester 6\\predictive analytics\\lab\\labassignment3\\venv\\lib\\site-packages (from tensorflow-intel==2.18.0->tensorflow<2.19,>=2.18->tf-keras>=2.14.1->tensorflow-hub) (57.4.0)\n",
      "Requirement already satisfied: termcolor>=1.1.0 in c:\\aarush\\college\\semester 6\\predictive analytics\\lab\\labassignment3\\venv\\lib\\site-packages (from tensorflow-intel==2.18.0->tensorflow<2.19,>=2.18->tf-keras>=2.14.1->tensorflow-hub) (2.5.0)\n",
      "Requirement already satisfied: absl-py>=1.0.0 in c:\\aarush\\college\\semester 6\\predictive analytics\\lab\\labassignment3\\venv\\lib\\site-packages (from tensorflow-intel==2.18.0->tensorflow<2.19,>=2.18->tf-keras>=2.14.1->tensorflow-hub) (2.1.0)\n",
      "Requirement already satisfied: wrapt>=1.11.0 in c:\\aarush\\college\\semester 6\\predictive analytics\\lab\\labassignment3\\venv\\lib\\site-packages (from tensorflow-intel==2.18.0->tensorflow<2.19,>=2.18->tf-keras>=2.14.1->tensorflow-hub) (1.17.2)\n",
      "Requirement already satisfied: packaging in c:\\aarush\\college\\semester 6\\predictive analytics\\lab\\labassignment3\\venv\\lib\\site-packages (from tensorflow-intel==2.18.0->tensorflow<2.19,>=2.18->tf-keras>=2.14.1->tensorflow-hub) (24.2)\n",
      "Requirement already satisfied: wheel<1.0,>=0.23.0 in c:\\aarush\\college\\semester 6\\predictive analytics\\lab\\labassignment3\\venv\\lib\\site-packages (from astunparse>=1.6.0->tensorflow-intel==2.18.0->tensorflow<2.19,>=2.18->tf-keras>=2.14.1->tensorflow-hub) (0.45.1)\n",
      "Requirement already satisfied: namex in c:\\aarush\\college\\semester 6\\predictive analytics\\lab\\labassignment3\\venv\\lib\\site-packages (from keras>=3.5.0->tensorflow-intel==2.18.0->tensorflow<2.19,>=2.18->tf-keras>=2.14.1->tensorflow-hub) (0.0.8)\n",
      "Requirement already satisfied: rich in c:\\aarush\\college\\semester 6\\predictive analytics\\lab\\labassignment3\\venv\\lib\\site-packages (from keras>=3.5.0->tensorflow-intel==2.18.0->tensorflow<2.19,>=2.18->tf-keras>=2.14.1->tensorflow-hub) (13.9.4)\n",
      "Requirement already satisfied: optree in c:\\aarush\\college\\semester 6\\predictive analytics\\lab\\labassignment3\\venv\\lib\\site-packages (from keras>=3.5.0->tensorflow-intel==2.18.0->tensorflow<2.19,>=2.18->tf-keras>=2.14.1->tensorflow-hub) (0.14.0)\n",
      "Requirement already satisfied: urllib3<3,>=1.21.1 in c:\\aarush\\college\\semester 6\\predictive analytics\\lab\\labassignment3\\venv\\lib\\site-packages (from requests<3,>=2.21.0->tensorflow-intel==2.18.0->tensorflow<2.19,>=2.18->tf-keras>=2.14.1->tensorflow-hub) (2.3.0)\n",
      "Requirement already satisfied: idna<4,>=2.5 in c:\\aarush\\college\\semester 6\\predictive analytics\\lab\\labassignment3\\venv\\lib\\site-packages (from requests<3,>=2.21.0->tensorflow-intel==2.18.0->tensorflow<2.19,>=2.18->tf-keras>=2.14.1->tensorflow-hub) (3.10)\n",
      "Requirement already satisfied: certifi>=2017.4.17 in c:\\aarush\\college\\semester 6\\predictive analytics\\lab\\labassignment3\\venv\\lib\\site-packages (from requests<3,>=2.21.0->tensorflow-intel==2.18.0->tensorflow<2.19,>=2.18->tf-keras>=2.14.1->tensorflow-hub) (2025.1.31)\n",
      "Requirement already satisfied: charset-normalizer<4,>=2 in c:\\aarush\\college\\semester 6\\predictive analytics\\lab\\labassignment3\\venv\\lib\\site-packages (from requests<3,>=2.21.0->tensorflow-intel==2.18.0->tensorflow<2.19,>=2.18->tf-keras>=2.14.1->tensorflow-hub) (3.4.1)\n",
      "Requirement already satisfied: tensorboard-data-server<0.8.0,>=0.7.0 in c:\\aarush\\college\\semester 6\\predictive analytics\\lab\\labassignment3\\venv\\lib\\site-packages (from tensorboard<2.19,>=2.18->tensorflow-intel==2.18.0->tensorflow<2.19,>=2.18->tf-keras>=2.14.1->tensorflow-hub) (0.7.2)\n",
      "Requirement already satisfied: markdown>=2.6.8 in c:\\aarush\\college\\semester 6\\predictive analytics\\lab\\labassignment3\\venv\\lib\\site-packages (from tensorboard<2.19,>=2.18->tensorflow-intel==2.18.0->tensorflow<2.19,>=2.18->tf-keras>=2.14.1->tensorflow-hub) (3.7)\n",
      "Requirement already satisfied: werkzeug>=1.0.1 in c:\\aarush\\college\\semester 6\\predictive analytics\\lab\\labassignment3\\venv\\lib\\site-packages (from tensorboard<2.19,>=2.18->tensorflow-intel==2.18.0->tensorflow<2.19,>=2.18->tf-keras>=2.14.1->tensorflow-hub) (3.1.3)\n",
      "Requirement already satisfied: MarkupSafe>=2.1.1 in c:\\aarush\\college\\semester 6\\predictive analytics\\lab\\labassignment3\\venv\\lib\\site-packages (from werkzeug>=1.0.1->tensorboard<2.19,>=2.18->tensorflow-intel==2.18.0->tensorflow<2.19,>=2.18->tf-keras>=2.14.1->tensorflow-hub) (3.0.2)\n",
      "Requirement already satisfied: markdown-it-py>=2.2.0 in c:\\aarush\\college\\semester 6\\predictive analytics\\lab\\labassignment3\\venv\\lib\\site-packages (from rich->keras>=3.5.0->tensorflow-intel==2.18.0->tensorflow<2.19,>=2.18->tf-keras>=2.14.1->tensorflow-hub) (3.0.0)\n",
      "Requirement already satisfied: pygments<3.0.0,>=2.13.0 in c:\\aarush\\college\\semester 6\\predictive analytics\\lab\\labassignment3\\venv\\lib\\site-packages (from rich->keras>=3.5.0->tensorflow-intel==2.18.0->tensorflow<2.19,>=2.18->tf-keras>=2.14.1->tensorflow-hub) (2.19.1)\n",
      "Requirement already satisfied: mdurl~=0.1 in c:\\aarush\\college\\semester 6\\predictive analytics\\lab\\labassignment3\\venv\\lib\\site-packages (from markdown-it-py>=2.2.0->rich->keras>=3.5.0->tensorflow-intel==2.18.0->tensorflow<2.19,>=2.18->tf-keras>=2.14.1->tensorflow-hub) (0.1.2)\n",
      "Installing collected packages: tensorflow-hub\n",
      "Successfully installed tensorflow-hub-0.16.1\n"
     ]
    }
   ],
   "source": [
    "!pip install tensorflow-hub\n"
   ]
  },
  {
   "cell_type": "code",
   "execution_count": 20,
   "metadata": {},
   "outputs": [
    {
     "name": "stdout",
     "output_type": "stream",
     "text": [
      "Collecting matplotlib\n",
      "  Downloading matplotlib-3.10.0-cp310-cp310-win_amd64.whl (8.0 MB)\n",
      "Requirement already satisfied: numpy>=1.23 in c:\\aarush\\college\\semester 6\\predictive analytics\\lab\\labassignment3\\venv\\lib\\site-packages (from matplotlib) (2.0.2)\n",
      "Requirement already satisfied: python-dateutil>=2.7 in c:\\aarush\\college\\semester 6\\predictive analytics\\lab\\labassignment3\\venv\\lib\\site-packages (from matplotlib) (2.9.0.post0)\n",
      "Requirement already satisfied: pillow>=8 in c:\\aarush\\college\\semester 6\\predictive analytics\\lab\\labassignment3\\venv\\lib\\site-packages (from matplotlib) (11.1.0)\n",
      "Collecting contourpy>=1.0.1\n",
      "  Downloading contourpy-1.3.1-cp310-cp310-win_amd64.whl (218 kB)\n",
      "Collecting cycler>=0.10\n",
      "  Downloading cycler-0.12.1-py3-none-any.whl (8.3 kB)\n",
      "Requirement already satisfied: packaging>=20.0 in c:\\aarush\\college\\semester 6\\predictive analytics\\lab\\labassignment3\\venv\\lib\\site-packages (from matplotlib) (24.2)\n",
      "Collecting pyparsing>=2.3.1\n",
      "  Downloading pyparsing-3.2.1-py3-none-any.whl (107 kB)\n",
      "Collecting kiwisolver>=1.3.1\n",
      "  Downloading kiwisolver-1.4.8-cp310-cp310-win_amd64.whl (71 kB)\n",
      "Collecting fonttools>=4.22.0\n",
      "  Downloading fonttools-4.55.8-cp310-cp310-win_amd64.whl (2.2 MB)\n",
      "Requirement already satisfied: six>=1.5 in c:\\aarush\\college\\semester 6\\predictive analytics\\lab\\labassignment3\\venv\\lib\\site-packages (from python-dateutil>=2.7->matplotlib) (1.17.0)\n",
      "Installing collected packages: pyparsing, kiwisolver, fonttools, cycler, contourpy, matplotlib\n",
      "Successfully installed contourpy-1.3.1 cycler-0.12.1 fonttools-4.55.8 kiwisolver-1.4.8 matplotlib-3.10.0 pyparsing-3.2.1\n"
     ]
    }
   ],
   "source": [
    "!pip install matplotlib"
   ]
  },
  {
   "cell_type": "code",
   "execution_count": 21,
   "metadata": {},
   "outputs": [],
   "source": [
    "import numpy as np\n",
    "import pandas as pd\n",
    "import torch\n",
    "import tensorflow as tf\n",
    "import tensorflow_hub as hub\n",
    "import time\n",
    "from sentence_transformers import SentenceTransformer\n",
    "from sklearn.metrics.pairwise import cosine_similarity\n",
    "from scipy.stats import spearmanr\n",
    "from datasets import load_dataset\n",
    "import psutil\n",
    "import os\n",
    "import matplotlib.pyplot as plt\n"
   ]
  },
  {
   "cell_type": "code",
   "execution_count": 5,
   "metadata": {},
   "outputs": [],
   "source": [
    "# Check if GPU is available\n",
    "device = 'cuda' if torch.cuda.is_available() else 'cpu'\n"
   ]
  },
  {
   "cell_type": "code",
   "execution_count": 6,
   "metadata": {},
   "outputs": [
    {
     "name": "stderr",
     "output_type": "stream",
     "text": [
      "c:\\AARUSH\\COLLEGE\\Semester 6\\Predictive Analytics\\Lab\\LabAssignment3\\venv\\lib\\site-packages\\huggingface_hub\\file_download.py:140: UserWarning: `huggingface_hub` cache-system uses symlinks by default to efficiently store duplicated files but your machine does not support them in C:\\Users\\Aarush\\.cache\\huggingface\\hub\\datasets--stsb_multi_mt. Caching files will still work but in a degraded version that might require more space on your disk. This warning can be disabled by setting the `HF_HUB_DISABLE_SYMLINKS_WARNING` environment variable. For more details, see https://huggingface.co/docs/huggingface_hub/how-to-cache#limitations.\n",
      "To support symlinks on Windows, you either need to activate Developer Mode or to run Python as an administrator. In order to activate developer mode, see this article: https://docs.microsoft.com/en-us/windows/apps/get-started/enable-your-device-for-development\n",
      "  warnings.warn(message)\n",
      "Generating train split: 100%|██████████| 5749/5749 [00:00<00:00, 325000.05 examples/s]\n",
      "Generating test split: 100%|██████████| 1379/1379 [00:00<00:00, 342346.57 examples/s]\n",
      "Generating dev split: 100%|██████████| 1500/1500 [00:00<?, ? examples/s]\n"
     ]
    }
   ],
   "source": [
    "# Load a benchmark dataset for sentence similarity (STS-Benchmark)\n",
    "dataset = load_dataset(\"stsb_multi_mt\", name=\"en\", split=\"test\")\n",
    "sentences1 = dataset[\"sentence1\"][:100]  # Using first 100 pairs\n",
    "sentences2 = dataset[\"sentence2\"][:100]\n",
    "ground_truth = dataset[\"similarity_score\"][:100]\n",
    "\n",
    "# Define pre-trained models for sentence similarity\n",
    "models = {\n",
    "    \"SBERT\": \"sentence-transformers/all-MiniLM-L6-v2\",\n",
    "    \"USE\": \"https://tfhub.dev/google/universal-sentence-encoder/4\",\n",
    "    \"DistilBERT\": \"sentence-transformers/distilbert-base-nli-stsb-mean-tokens\",\n",
    "    \"MPNet\": \"sentence-transformers/all-mpnet-base-v2\"\n",
    "}\n",
    "\n",
    "# Dictionary to store results\n",
    "results = {}"
   ]
  },
  {
   "cell_type": "code",
   "execution_count": 7,
   "metadata": {},
   "outputs": [],
   "source": [
    "# Function to measure memory usage\n",
    "def get_memory_usage():\n",
    "    process = psutil.Process(os.getpid())\n",
    "    return process.memory_info().rss / (1024 ** 2)  # Convert bytes to MB\n"
   ]
  },
  {
   "cell_type": "code",
   "execution_count": 11,
   "metadata": {},
   "outputs": [
    {
     "name": "stdout",
     "output_type": "stream",
     "text": [
      "Evaluating SBERT...\n",
      "Evaluating USE...\n",
      "WARNING:tensorflow:From c:\\AARUSH\\COLLEGE\\Semester 6\\Predictive Analytics\\Lab\\LabAssignment3\\venv\\lib\\site-packages\\tensorflow_hub\\resolver.py:120: The name tf.gfile.MakeDirs is deprecated. Please use tf.io.gfile.makedirs instead.\n",
      "\n"
     ]
    },
    {
     "name": "stderr",
     "output_type": "stream",
     "text": [
      "WARNING:tensorflow:From c:\\AARUSH\\COLLEGE\\Semester 6\\Predictive Analytics\\Lab\\LabAssignment3\\venv\\lib\\site-packages\\tensorflow_hub\\resolver.py:120: The name tf.gfile.MakeDirs is deprecated. Please use tf.io.gfile.makedirs instead.\n",
      "\n"
     ]
    },
    {
     "name": "stdout",
     "output_type": "stream",
     "text": [
      "WARNING:tensorflow:From c:\\AARUSH\\COLLEGE\\Semester 6\\Predictive Analytics\\Lab\\LabAssignment3\\venv\\lib\\site-packages\\tensorflow_hub\\module_v2.py:126: The name tf.saved_model.load_v2 is deprecated. Please use tf.compat.v2.saved_model.load instead.\n",
      "\n"
     ]
    },
    {
     "name": "stderr",
     "output_type": "stream",
     "text": [
      "WARNING:tensorflow:From c:\\AARUSH\\COLLEGE\\Semester 6\\Predictive Analytics\\Lab\\LabAssignment3\\venv\\lib\\site-packages\\tensorflow_hub\\module_v2.py:126: The name tf.saved_model.load_v2 is deprecated. Please use tf.compat.v2.saved_model.load instead.\n",
      "\n"
     ]
    },
    {
     "name": "stdout",
     "output_type": "stream",
     "text": [
      "Evaluating DistilBERT...\n"
     ]
    },
    {
     "name": "stderr",
     "output_type": "stream",
     "text": [
      "c:\\AARUSH\\COLLEGE\\Semester 6\\Predictive Analytics\\Lab\\LabAssignment3\\venv\\lib\\site-packages\\huggingface_hub\\file_download.py:140: UserWarning: `huggingface_hub` cache-system uses symlinks by default to efficiently store duplicated files but your machine does not support them in C:\\Users\\Aarush\\.cache\\huggingface\\hub\\models--sentence-transformers--distilbert-base-nli-stsb-mean-tokens. Caching files will still work but in a degraded version that might require more space on your disk. This warning can be disabled by setting the `HF_HUB_DISABLE_SYMLINKS_WARNING` environment variable. For more details, see https://huggingface.co/docs/huggingface_hub/how-to-cache#limitations.\n",
      "To support symlinks on Windows, you either need to activate Developer Mode or to run Python as an administrator. In order to activate developer mode, see this article: https://docs.microsoft.com/en-us/windows/apps/get-started/enable-your-device-for-development\n",
      "  warnings.warn(message)\n"
     ]
    },
    {
     "name": "stdout",
     "output_type": "stream",
     "text": [
      "Evaluating MPNet...\n"
     ]
    },
    {
     "name": "stderr",
     "output_type": "stream",
     "text": [
      "c:\\AARUSH\\COLLEGE\\Semester 6\\Predictive Analytics\\Lab\\LabAssignment3\\venv\\lib\\site-packages\\huggingface_hub\\file_download.py:140: UserWarning: `huggingface_hub` cache-system uses symlinks by default to efficiently store duplicated files but your machine does not support them in C:\\Users\\Aarush\\.cache\\huggingface\\hub\\models--sentence-transformers--all-mpnet-base-v2. Caching files will still work but in a degraded version that might require more space on your disk. This warning can be disabled by setting the `HF_HUB_DISABLE_SYMLINKS_WARNING` environment variable. For more details, see https://huggingface.co/docs/huggingface_hub/how-to-cache#limitations.\n",
      "To support symlinks on Windows, you either need to activate Developer Mode or to run Python as an administrator. In order to activate developer mode, see this article: https://docs.microsoft.com/en-us/windows/apps/get-started/enable-your-device-for-development\n",
      "  warnings.warn(message)\n"
     ]
    }
   ],
   "source": [
    "# Evaluate each model\n",
    "for model_name, model_path in models.items():\n",
    "    print(f\"Evaluating {model_name}...\")\n",
    "\n",
    "    start_time = time.time()\n",
    "\n",
    "    # Load model\n",
    "    if \"USE\" in model_name:\n",
    "        # Use tensorflow_hub to load the USE model\n",
    "        embedder = hub.load(model_path)\n",
    "        encode_fn = lambda sentences: embedder(sentences).numpy()\n",
    "    else:\n",
    "        embedder = SentenceTransformer(model_path).to(device)\n",
    "        encode_fn = lambda sentences: embedder.encode(sentences, convert_to_numpy=True)\n",
    "\n",
    "    # Compute embeddings\n",
    "    embeddings1 = encode_fn(sentences1)\n",
    "    embeddings2 = encode_fn(sentences2)\n",
    "\n",
    "    # Compute cosine similarity\n",
    "    cosine_scores = [cosine_similarity([emb1], [emb2])[0][0] for emb1, emb2 in zip(embeddings1, embeddings2)]\n",
    "\n",
    "    # Compute Spearman correlation with ground truth scores\n",
    "    spearman_corr, _ = spearmanr(ground_truth, cosine_scores)\n",
    "\n",
    "    # Measure inference time (ms)\n",
    "    inference_time = (time.time() - start_time) * 1000 / len(sentences1)\n",
    "\n",
    "    # Get model size (approximate size in MB)\n",
    "    model_size = sum(p.numel() * p.element_size() for p in embedder.parameters()) / (1024 ** 2) if \"USE\" not in model_name else 300  # Approximate size for USE\n",
    "\n",
    "    # Measure memory usage\n",
    "    memory_usage = get_memory_usage()\n",
    "\n",
    "    # Store results\n",
    "    results[model_name] = [np.mean(cosine_scores), spearman_corr, inference_time, model_size, memory_usage]\n"
   ]
  },
  {
   "cell_type": "code",
   "execution_count": 12,
   "metadata": {},
   "outputs": [
    {
     "name": "stdout",
     "output_type": "stream",
     "text": [
      "\n",
      "Original Decision Matrix:\n"
     ]
    },
    {
     "data": {
      "text/html": [
       "<div>\n",
       "<style scoped>\n",
       "    .dataframe tbody tr th:only-of-type {\n",
       "        vertical-align: middle;\n",
       "    }\n",
       "\n",
       "    .dataframe tbody tr th {\n",
       "        vertical-align: top;\n",
       "    }\n",
       "\n",
       "    .dataframe thead th {\n",
       "        text-align: right;\n",
       "    }\n",
       "</style>\n",
       "<table border=\"1\" class=\"dataframe\">\n",
       "  <thead>\n",
       "    <tr style=\"text-align: right;\">\n",
       "      <th></th>\n",
       "      <th>Cosine_Similarity</th>\n",
       "      <th>Spearman_Correlation</th>\n",
       "      <th>Inference_Time</th>\n",
       "      <th>Model_Size</th>\n",
       "      <th>Memory_Usage</th>\n",
       "    </tr>\n",
       "  </thead>\n",
       "  <tbody>\n",
       "    <tr>\n",
       "      <th>SBERT</th>\n",
       "      <td>0.557192</td>\n",
       "      <td>0.933631</td>\n",
       "      <td>46.094351</td>\n",
       "      <td>86.644043</td>\n",
       "      <td>794.062500</td>\n",
       "    </tr>\n",
       "    <tr>\n",
       "      <th>USE</th>\n",
       "      <td>0.599967</td>\n",
       "      <td>0.874986</td>\n",
       "      <td>2649.962127</td>\n",
       "      <td>300.000000</td>\n",
       "      <td>2221.523438</td>\n",
       "    </tr>\n",
       "    <tr>\n",
       "      <th>DistilBERT</th>\n",
       "      <td>0.502379</td>\n",
       "      <td>0.907169</td>\n",
       "      <td>713.329036</td>\n",
       "      <td>253.154297</td>\n",
       "      <td>2364.664062</td>\n",
       "    </tr>\n",
       "    <tr>\n",
       "      <th>MPNet</th>\n",
       "      <td>0.522501</td>\n",
       "      <td>0.945303</td>\n",
       "      <td>1117.269466</td>\n",
       "      <td>417.657715</td>\n",
       "      <td>2701.457031</td>\n",
       "    </tr>\n",
       "  </tbody>\n",
       "</table>\n",
       "</div>"
      ],
      "text/plain": [
       "            Cosine_Similarity  Spearman_Correlation  Inference_Time  \\\n",
       "SBERT                0.557192              0.933631       46.094351   \n",
       "USE                  0.599967              0.874986     2649.962127   \n",
       "DistilBERT           0.502379              0.907169      713.329036   \n",
       "MPNet                0.522501              0.945303     1117.269466   \n",
       "\n",
       "            Model_Size  Memory_Usage  \n",
       "SBERT        86.644043    794.062500  \n",
       "USE         300.000000   2221.523438  \n",
       "DistilBERT  253.154297   2364.664062  \n",
       "MPNet       417.657715   2701.457031  "
      ]
     },
     "metadata": {},
     "output_type": "display_data"
    }
   ],
   "source": [
    "# Convert results to DataFrame\n",
    "df = pd.DataFrame.from_dict(results, orient=\"index\", columns=[\n",
    "    \"Cosine_Similarity\", \"Spearman_Correlation\", \"Inference_Time\", \"Model_Size\", \"Memory_Usage\"\n",
    "])\n",
    "print(\"\\nOriginal Decision Matrix:\")\n",
    "display(df)"
   ]
  },
  {
   "cell_type": "code",
   "execution_count": 13,
   "metadata": {},
   "outputs": [
    {
     "name": "stdout",
     "output_type": "stream",
     "text": [
      "\n",
      "Normalized Decision Matrix:\n"
     ]
    },
    {
     "data": {
      "text/html": [
       "<div>\n",
       "<style scoped>\n",
       "    .dataframe tbody tr th:only-of-type {\n",
       "        vertical-align: middle;\n",
       "    }\n",
       "\n",
       "    .dataframe tbody tr th {\n",
       "        vertical-align: top;\n",
       "    }\n",
       "\n",
       "    .dataframe thead th {\n",
       "        text-align: right;\n",
       "    }\n",
       "</style>\n",
       "<table border=\"1\" class=\"dataframe\">\n",
       "  <thead>\n",
       "    <tr style=\"text-align: right;\">\n",
       "      <th></th>\n",
       "      <th>Cosine_Similarity</th>\n",
       "      <th>Spearman_Correlation</th>\n",
       "      <th>Inference_Time</th>\n",
       "      <th>Model_Size</th>\n",
       "      <th>Memory_Usage</th>\n",
       "    </tr>\n",
       "  </thead>\n",
       "  <tbody>\n",
       "    <tr>\n",
       "      <th>SBERT</th>\n",
       "      <td>0.561676</td>\n",
       "      <td>0.834002</td>\n",
       "      <td>1.000000</td>\n",
       "      <td>1.000000</td>\n",
       "      <td>1.000000</td>\n",
       "    </tr>\n",
       "    <tr>\n",
       "      <th>USE</th>\n",
       "      <td>1.000000</td>\n",
       "      <td>0.000000</td>\n",
       "      <td>0.000000</td>\n",
       "      <td>0.355447</td>\n",
       "      <td>0.251617</td>\n",
       "    </tr>\n",
       "    <tr>\n",
       "      <th>DistilBERT</th>\n",
       "      <td>0.000000</td>\n",
       "      <td>0.457689</td>\n",
       "      <td>0.743752</td>\n",
       "      <td>0.496969</td>\n",
       "      <td>0.176572</td>\n",
       "    </tr>\n",
       "    <tr>\n",
       "      <th>MPNet</th>\n",
       "      <td>0.206202</td>\n",
       "      <td>1.000000</td>\n",
       "      <td>0.588622</td>\n",
       "      <td>0.000000</td>\n",
       "      <td>0.000000</td>\n",
       "    </tr>\n",
       "  </tbody>\n",
       "</table>\n",
       "</div>"
      ],
      "text/plain": [
       "            Cosine_Similarity  Spearman_Correlation  Inference_Time  \\\n",
       "SBERT                0.561676              0.834002        1.000000   \n",
       "USE                  1.000000              0.000000        0.000000   \n",
       "DistilBERT           0.000000              0.457689        0.743752   \n",
       "MPNet                0.206202              1.000000        0.588622   \n",
       "\n",
       "            Model_Size  Memory_Usage  \n",
       "SBERT         1.000000      1.000000  \n",
       "USE           0.355447      0.251617  \n",
       "DistilBERT    0.496969      0.176572  \n",
       "MPNet         0.000000      0.000000  "
      ]
     },
     "metadata": {},
     "output_type": "display_data"
    }
   ],
   "source": [
    "# Normalize the Decision Matrix\n",
    "df_normalized = df.copy()\n",
    "\n",
    "# Define benefit and cost criteria\n",
    "benefit_cols = [\"Cosine_Similarity\", \"Spearman_Correlation\"]\n",
    "cost_cols = [\"Inference_Time\", \"Model_Size\", \"Memory_Usage\"]\n",
    "\n",
    "# Normalize benefit criteria\n",
    "for col in benefit_cols:\n",
    "    df_normalized[col] = (df[col] - df[col].min()) / (df[col].max() - df[col].min())\n",
    "\n",
    "# Normalize cost criteria (inverted normalization)\n",
    "for col in cost_cols:\n",
    "    df_normalized[col] = (df[col].max() - df[col]) / (df[col].max() - df[col].min())\n",
    "\n",
    "print(\"\\nNormalized Decision Matrix:\")\n",
    "display(df_normalized)"
   ]
  },
  {
   "cell_type": "code",
   "execution_count": 14,
   "metadata": {},
   "outputs": [
    {
     "name": "stdout",
     "output_type": "stream",
     "text": [
      "\n",
      "Weighted Normalized Decision Matrix:\n"
     ]
    },
    {
     "data": {
      "text/html": [
       "<div>\n",
       "<style scoped>\n",
       "    .dataframe tbody tr th:only-of-type {\n",
       "        vertical-align: middle;\n",
       "    }\n",
       "\n",
       "    .dataframe tbody tr th {\n",
       "        vertical-align: top;\n",
       "    }\n",
       "\n",
       "    .dataframe thead th {\n",
       "        text-align: right;\n",
       "    }\n",
       "</style>\n",
       "<table border=\"1\" class=\"dataframe\">\n",
       "  <thead>\n",
       "    <tr style=\"text-align: right;\">\n",
       "      <th></th>\n",
       "      <th>Cosine_Similarity</th>\n",
       "      <th>Spearman_Correlation</th>\n",
       "      <th>Inference_Time</th>\n",
       "      <th>Model_Size</th>\n",
       "      <th>Memory_Usage</th>\n",
       "    </tr>\n",
       "  </thead>\n",
       "  <tbody>\n",
       "    <tr>\n",
       "      <th>SBERT</th>\n",
       "      <td>0.196587</td>\n",
       "      <td>0.208501</td>\n",
       "      <td>0.150000</td>\n",
       "      <td>0.150000</td>\n",
       "      <td>0.100000</td>\n",
       "    </tr>\n",
       "    <tr>\n",
       "      <th>USE</th>\n",
       "      <td>0.350000</td>\n",
       "      <td>0.000000</td>\n",
       "      <td>0.000000</td>\n",
       "      <td>0.053317</td>\n",
       "      <td>0.025162</td>\n",
       "    </tr>\n",
       "    <tr>\n",
       "      <th>DistilBERT</th>\n",
       "      <td>0.000000</td>\n",
       "      <td>0.114422</td>\n",
       "      <td>0.111563</td>\n",
       "      <td>0.074545</td>\n",
       "      <td>0.017657</td>\n",
       "    </tr>\n",
       "    <tr>\n",
       "      <th>MPNet</th>\n",
       "      <td>0.072171</td>\n",
       "      <td>0.250000</td>\n",
       "      <td>0.088293</td>\n",
       "      <td>0.000000</td>\n",
       "      <td>0.000000</td>\n",
       "    </tr>\n",
       "  </tbody>\n",
       "</table>\n",
       "</div>"
      ],
      "text/plain": [
       "            Cosine_Similarity  Spearman_Correlation  Inference_Time  \\\n",
       "SBERT                0.196587              0.208501        0.150000   \n",
       "USE                  0.350000              0.000000        0.000000   \n",
       "DistilBERT           0.000000              0.114422        0.111563   \n",
       "MPNet                0.072171              0.250000        0.088293   \n",
       "\n",
       "            Model_Size  Memory_Usage  \n",
       "SBERT         0.150000      0.100000  \n",
       "USE           0.053317      0.025162  \n",
       "DistilBERT    0.074545      0.017657  \n",
       "MPNet         0.000000      0.000000  "
      ]
     },
     "metadata": {},
     "output_type": "display_data"
    }
   ],
   "source": [
    "# Assign Weights to Each Criterion\n",
    "weights = {\n",
    "    \"Cosine_Similarity\": 0.35,\n",
    "    \"Spearman_Correlation\": 0.25,\n",
    "    \"Inference_Time\": 0.15,\n",
    "    \"Model_Size\": 0.15,\n",
    "    \"Memory_Usage\": 0.10\n",
    "}\n",
    "\n",
    "# Multiply the normalized values by their corresponding weights\n",
    "for col, weight in weights.items():\n",
    "    df_normalized[col] *= weight\n",
    "\n",
    "print(\"\\nWeighted Normalized Decision Matrix:\")\n",
    "display(df_normalized)"
   ]
  },
  {
   "cell_type": "code",
   "execution_count": 15,
   "metadata": {},
   "outputs": [
    {
     "name": "stdout",
     "output_type": "stream",
     "text": [
      "\n",
      "Ideal (Best) Solution:\n"
     ]
    },
    {
     "data": {
      "text/plain": [
       "Cosine_Similarity       0.35\n",
       "Spearman_Correlation    0.25\n",
       "Inference_Time          0.15\n",
       "Model_Size              0.15\n",
       "Memory_Usage            0.10\n",
       "dtype: float64"
      ]
     },
     "metadata": {},
     "output_type": "display_data"
    },
    {
     "name": "stdout",
     "output_type": "stream",
     "text": [
      "\n",
      "Negative-Ideal (Worst) Solution:\n"
     ]
    },
    {
     "data": {
      "text/plain": [
       "Cosine_Similarity       0.0\n",
       "Spearman_Correlation    0.0\n",
       "Inference_Time          0.0\n",
       "Model_Size              0.0\n",
       "Memory_Usage            0.0\n",
       "dtype: float64"
      ]
     },
     "metadata": {},
     "output_type": "display_data"
    }
   ],
   "source": [
    "# Determine Ideal (Best) and Negative-Ideal (Worst) Solutions\n",
    "ideal_solution = df_normalized.max()\n",
    "negative_ideal_solution = df_normalized.min()\n",
    "\n",
    "print(\"\\nIdeal (Best) Solution:\")\n",
    "display(ideal_solution)\n",
    "\n",
    "print(\"\\nNegative-Ideal (Worst) Solution:\")\n",
    "display(negative_ideal_solution)\n"
   ]
  },
  {
   "cell_type": "code",
   "execution_count": 16,
   "metadata": {},
   "outputs": [
    {
     "name": "stdout",
     "output_type": "stream",
     "text": [
      "\n",
      "Separation Measures:\n"
     ]
    },
    {
     "data": {
      "text/html": [
       "<div>\n",
       "<style scoped>\n",
       "    .dataframe tbody tr th:only-of-type {\n",
       "        vertical-align: middle;\n",
       "    }\n",
       "\n",
       "    .dataframe tbody tr th {\n",
       "        vertical-align: top;\n",
       "    }\n",
       "\n",
       "    .dataframe thead th {\n",
       "        text-align: right;\n",
       "    }\n",
       "</style>\n",
       "<table border=\"1\" class=\"dataframe\">\n",
       "  <thead>\n",
       "    <tr style=\"text-align: right;\">\n",
       "      <th></th>\n",
       "      <th>Distance_to_Ideal</th>\n",
       "      <th>Distance_to_Negative</th>\n",
       "    </tr>\n",
       "  </thead>\n",
       "  <tbody>\n",
       "    <tr>\n",
       "      <th>SBERT</th>\n",
       "      <td>0.158927</td>\n",
       "      <td>0.370296</td>\n",
       "    </tr>\n",
       "    <tr>\n",
       "      <th>USE</th>\n",
       "      <td>0.316146</td>\n",
       "      <td>0.354931</td>\n",
       "    </tr>\n",
       "    <tr>\n",
       "      <th>DistilBERT</th>\n",
       "      <td>0.393488</td>\n",
       "      <td>0.177222</td>\n",
       "    </tr>\n",
       "    <tr>\n",
       "      <th>MPNet</th>\n",
       "      <td>0.336893</td>\n",
       "      <td>0.27478</td>\n",
       "    </tr>\n",
       "  </tbody>\n",
       "</table>\n",
       "</div>"
      ],
      "text/plain": [
       "           Distance_to_Ideal Distance_to_Negative\n",
       "SBERT               0.158927             0.370296\n",
       "USE                 0.316146             0.354931\n",
       "DistilBERT          0.393488             0.177222\n",
       "MPNet               0.336893              0.27478"
      ]
     },
     "metadata": {},
     "output_type": "display_data"
    }
   ],
   "source": [
    "# Compute Euclidean Distances to Ideal and Negative-Ideal Solutions\n",
    "def euclidean_distance(row, target):\n",
    "    return np.sqrt(((row - target) ** 2).sum())\n",
    "\n",
    "# Compute distances\n",
    "distances = pd.DataFrame(index=df_normalized.index, columns=[\"Distance_to_Ideal\", \"Distance_to_Negative\"])\n",
    "\n",
    "for model in df_normalized.index:\n",
    "    distances.loc[model, \"Distance_to_Ideal\"] = euclidean_distance(df_normalized.loc[model], ideal_solution)\n",
    "    distances.loc[model, \"Distance_to_Negative\"] = euclidean_distance(df_normalized.loc[model], negative_ideal_solution)\n",
    "\n",
    "print(\"\\nSeparation Measures:\")\n",
    "display(distances)"
   ]
  },
  {
   "cell_type": "code",
   "execution_count": 17,
   "metadata": {},
   "outputs": [
    {
     "name": "stdout",
     "output_type": "stream",
     "text": [
      "\n",
      "Final TOPSIS Scores and Ranking:\n"
     ]
    },
    {
     "data": {
      "text/html": [
       "<div>\n",
       "<style scoped>\n",
       "    .dataframe tbody tr th:only-of-type {\n",
       "        vertical-align: middle;\n",
       "    }\n",
       "\n",
       "    .dataframe tbody tr th {\n",
       "        vertical-align: top;\n",
       "    }\n",
       "\n",
       "    .dataframe thead th {\n",
       "        text-align: right;\n",
       "    }\n",
       "</style>\n",
       "<table border=\"1\" class=\"dataframe\">\n",
       "  <thead>\n",
       "    <tr style=\"text-align: right;\">\n",
       "      <th></th>\n",
       "      <th>Distance_to_Ideal</th>\n",
       "      <th>Distance_to_Negative</th>\n",
       "      <th>TOPSIS_Score</th>\n",
       "      <th>Rank</th>\n",
       "    </tr>\n",
       "  </thead>\n",
       "  <tbody>\n",
       "    <tr>\n",
       "      <th>SBERT</th>\n",
       "      <td>0.158927</td>\n",
       "      <td>0.370296</td>\n",
       "      <td>0.699697</td>\n",
       "      <td>1.0</td>\n",
       "    </tr>\n",
       "    <tr>\n",
       "      <th>USE</th>\n",
       "      <td>0.316146</td>\n",
       "      <td>0.354931</td>\n",
       "      <td>0.528897</td>\n",
       "      <td>2.0</td>\n",
       "    </tr>\n",
       "    <tr>\n",
       "      <th>MPNet</th>\n",
       "      <td>0.336893</td>\n",
       "      <td>0.27478</td>\n",
       "      <td>0.449227</td>\n",
       "      <td>3.0</td>\n",
       "    </tr>\n",
       "    <tr>\n",
       "      <th>DistilBERT</th>\n",
       "      <td>0.393488</td>\n",
       "      <td>0.177222</td>\n",
       "      <td>0.310529</td>\n",
       "      <td>4.0</td>\n",
       "    </tr>\n",
       "  </tbody>\n",
       "</table>\n",
       "</div>"
      ],
      "text/plain": [
       "           Distance_to_Ideal Distance_to_Negative TOPSIS_Score  Rank\n",
       "SBERT               0.158927             0.370296     0.699697   1.0\n",
       "USE                 0.316146             0.354931     0.528897   2.0\n",
       "MPNet               0.336893              0.27478     0.449227   3.0\n",
       "DistilBERT          0.393488             0.177222     0.310529   4.0"
      ]
     },
     "metadata": {},
     "output_type": "display_data"
    }
   ],
   "source": [
    "# Compute TOPSIS Score and Rank Models\n",
    "distances[\"TOPSIS_Score\"] = distances[\"Distance_to_Negative\"] / (distances[\"Distance_to_Ideal\"] + distances[\"Distance_to_Negative\"])\n",
    "distances[\"Rank\"] = distances[\"TOPSIS_Score\"].rank(ascending=False)\n",
    "\n",
    "print(\"\\nFinal TOPSIS Scores and Ranking:\")\n",
    "display(distances.sort_values(\"Rank\"))"
   ]
  },
  {
   "cell_type": "code",
   "execution_count": 23,
   "metadata": {},
   "outputs": [
    {
     "data": {
      "image/png": "[encoded data removed]",
      "text/plain": [
       "<Figure size 1800x1200 with 6 Axes>"
      ]
     },
     "metadata": {},
     "output_type": "display_data"
    }
   ],
   "source": [
    "# Plotting the results\n",
    "fig, axes = plt.subplots(2, 3, figsize=(18, 12))\n",
    "\n",
    "# Cosine Similarity vs. Models\n",
    "axes[0, 0].bar(df.index, df[\"Cosine_Similarity\"], color='skyblue')\n",
    "axes[0, 0].set_title(\"Cosine Similarity vs. Models\")\n",
    "axes[0, 0].set_ylabel(\"Cosine Similarity\")\n",
    "\n",
    "# Spearman Correlation vs. Models\n",
    "axes[0, 1].bar(df.index, df[\"Spearman_Correlation\"], color='salmon')\n",
    "axes[0, 1].set_title(\"Spearman Correlation vs. Models\")\n",
    "axes[0, 1].set_ylabel(\"Spearman Correlation\")\n",
    "\n",
    "# Inference Time vs. Models\n",
    "axes[0, 2].bar(df.index, df[\"Inference_Time\"], color='lightgreen')\n",
    "axes[0, 2].set_title(\"Inference Time vs. Models (ms)\")\n",
    "axes[0, 2].set_ylabel(\"Inference Time (ms)\")\n",
    "\n",
    "# Model Size vs. Models\n",
    "axes[1, 0].bar(df.index, df[\"Model_Size\"], color='orange')\n",
    "axes[1, 0].set_title(\"Model Size vs. Models (MB)\")\n",
    "axes[1, 0].set_ylabel(\"Model Size (MB)\")\n",
    "\n",
    "# Memory Usage vs. Models\n",
    "axes[1, 1].bar(df.index, df[\"Memory_Usage\"], color='lightcoral')\n",
    "axes[1, 1].set_title(\"Memory Usage vs. Models (MB)\")\n",
    "axes[1, 1].set_ylabel(\"Memory Usage (MB)\")\n",
    "\n",
    "\n",
    "# Adjust layout and show the plots\n",
    "plt.tight_layout()\n",
    "plt.show()"
   ]
  }
 ],
 "metadata": {
  "kernelspec": {
   "display_name": "venv",
   "language": "python",
   "name": "python3"
  },
  "language_info": {
   "codemirror_mode": {
    "name": "ipython",
    "version": 3
   },
   "file_extension": ".py",
   "mimetype": "text/x-python",
   "name": "python",
   "nbconvert_exporter": "python",
   "pygments_lexer": "ipython3",
   "version": "3.10.0"
  }
 },
 "nbformat": 4,
 "nbformat_minor": 2
}
